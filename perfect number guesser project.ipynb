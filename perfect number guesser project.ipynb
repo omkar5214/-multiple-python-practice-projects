{
 "cells": [
  {
   "cell_type": "code",
   "execution_count": 3,
   "id": "b2477542",
   "metadata": {},
   "outputs": [
    {
     "name": "stdout",
     "output_type": "stream",
     "text": [
      "guess a no.55\n",
      "lower no. plz\n",
      "guess a no.44\n",
      "lower no. plz\n",
      "guess a no.33\n",
      "higher no. plz\n",
      "guess a no.35\n",
      "higher no. plz\n",
      "guess a no.36\n",
      "higher no. plz\n",
      "guess a no.37\n",
      "higher no. plz\n",
      "guess a no.38\n",
      "higher no. plz\n",
      "guess a no.39\n",
      "you have guessed 39 correctly in 8 attempt\n"
     ]
    }
   ],
   "source": [
    "# the perfect guesser project\n",
    "import random\n",
    "n=random.randint(1,100)\n",
    "a=-1\n",
    "guesses=0\n",
    "while(a!=n):\n",
    "    a= int(input(\"guess a no.\"))\n",
    "    guesses+=1\n",
    "    if(a==n):\n",
    "        break\n",
    "    if(a>n):\n",
    "        print(\"lower no. plz\")\n",
    "    else:\n",
    "        print(\"higher no. plz\")\n",
    "print(f\"you have guessed {n} correctly in {guesses} attempt\")"
   ]
  }
 ],
 "metadata": {
  "kernelspec": {
   "display_name": "Python 3 (ipykernel)",
   "language": "python",
   "name": "python3"
  },
  "language_info": {
   "codemirror_mode": {
    "name": "ipython",
    "version": 3
   },
   "file_extension": ".py",
   "mimetype": "text/x-python",
   "name": "python",
   "nbconvert_exporter": "python",
   "pygments_lexer": "ipython3",
   "version": "3.11.5"
  }
 },
 "nbformat": 4,
 "nbformat_minor": 5
}
